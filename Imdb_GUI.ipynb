{
 "cells": [
  {
   "cell_type": "code",
   "execution_count": 1,
   "id": "9be086ce",
   "metadata": {},
   "outputs": [],
   "source": [
    "import tensorflow as tf\n",
    "from tensorflow.keras.models import Sequential\n",
    "from tensorflow.keras.layers import Embedding, Flatten, Dense\n",
    "from tensorflow.keras.preprocessing.text import Tokenizer\n",
    "from tensorflow.keras.preprocessing.sequence import pad_sequences\n",
    "from tkinter import Tk, Label, Text, Button\n",
    "import time\n",
    "# Load the IMDB dataset\n",
    "imdb = tf.keras.datasets.imdb\n",
    "(train_data, train_labels), (test_data, test_labels) = imdb.load_data(num_words=10000)"
   ]
  },
  {
   "cell_type": "code",
   "execution_count": 2,
   "id": "daa5bbbe",
   "metadata": {},
   "outputs": [],
   "source": [
    "# Convert the integer sequences to text\n",
    "word_index = imdb.get_word_index()\n",
    "reverse_word_index = dict([(value, key) for (key, value) in word_index.items()])\n",
    "decoded_review = ' '.join([reverse_word_index.get(i - 3, '?') for i in train_data[0]])"
   ]
  },
  {
   "cell_type": "code",
   "execution_count": 3,
   "id": "ce79ffa2",
   "metadata": {},
   "outputs": [],
   "source": [
    "# Preprocess the data\n",
    "max_len = 200\n",
    "train_data = pad_sequences(train_data, maxlen=max_len)\n",
    "test_data = pad_sequences(test_data, maxlen=max_len)"
   ]
  },
  {
   "cell_type": "code",
   "execution_count": 4,
   "id": "159802b1",
   "metadata": {},
   "outputs": [],
   "source": [
    "# Build the model\n",
    "model = Sequential()\n",
    "model.add(Embedding(10000, 16))\n",
    "model.add(Flatten())\n",
    "model.add(Dense(1, activation='sigmoid'))\n"
   ]
  },
  {
   "cell_type": "code",
   "execution_count": 5,
   "id": "e6af380d",
   "metadata": {},
   "outputs": [],
   "source": [
    "model.compile(optimizer='adam', loss='binary_crossentropy', metrics=['accuracy'])"
   ]
  },
  {
   "cell_type": "code",
   "execution_count": 6,
   "id": "2ddffa42",
   "metadata": {},
   "outputs": [
    {
     "name": "stdout",
     "output_type": "stream",
     "text": [
      "Epoch 1/5\n",
      "\u001b[1m625/625\u001b[0m \u001b[32m━━━━━━━━━━━━━━━━━━━━\u001b[0m\u001b[37m\u001b[0m \u001b[1m3s\u001b[0m 4ms/step - accuracy: 0.6199 - loss: 0.6270 - val_accuracy: 0.8606 - val_loss: 0.3308\n",
      "Epoch 2/5\n",
      "\u001b[1m625/625\u001b[0m \u001b[32m━━━━━━━━━━━━━━━━━━━━\u001b[0m\u001b[37m\u001b[0m \u001b[1m2s\u001b[0m 3ms/step - accuracy: 0.9008 - loss: 0.2623 - val_accuracy: 0.8698 - val_loss: 0.2993\n",
      "Epoch 3/5\n",
      "\u001b[1m625/625\u001b[0m \u001b[32m━━━━━━━━━━━━━━━━━━━━\u001b[0m\u001b[37m\u001b[0m \u001b[1m2s\u001b[0m 3ms/step - accuracy: 0.9421 - loss: 0.1686 - val_accuracy: 0.8742 - val_loss: 0.3029\n",
      "Epoch 4/5\n",
      "\u001b[1m625/625\u001b[0m \u001b[32m━━━━━━━━━━━━━━━━━━━━\u001b[0m\u001b[37m\u001b[0m \u001b[1m2s\u001b[0m 3ms/step - accuracy: 0.9649 - loss: 0.1213 - val_accuracy: 0.8766 - val_loss: 0.3064\n",
      "Epoch 5/5\n",
      "\u001b[1m625/625\u001b[0m \u001b[32m━━━━━━━━━━━━━━━━━━━━\u001b[0m\u001b[37m\u001b[0m \u001b[1m2s\u001b[0m 3ms/step - accuracy: 0.9873 - loss: 0.0669 - val_accuracy: 0.8712 - val_loss: 0.3390\n",
      "Training Time: 11.977919578552246 seconds\n"
     ]
    }
   ],
   "source": [
    "# Measure training time\n",
    "start_time = time.time()\n",
    "model.fit(train_data, train_labels, epochs=5, validation_split=0.2)\n",
    "training_time = time.time() - start_time\n",
    "print(f\"Training Time: {training_time} seconds\")\n"
   ]
  },
  {
   "cell_type": "code",
   "execution_count": 7,
   "id": "479d6ebf",
   "metadata": {},
   "outputs": [
    {
     "name": "stdout",
     "output_type": "stream",
     "text": [
      "\u001b[1m782/782\u001b[0m \u001b[32m━━━━━━━━━━━━━━━━━━━━\u001b[0m\u001b[37m\u001b[0m \u001b[1m1s\u001b[0m 2ms/step - accuracy: 0.8678 - loss: 0.3485\n",
      "Testing Time: 1.3402938842773438 seconds\n"
     ]
    }
   ],
   "source": [
    "# Measure testing time\n",
    "start_time = time.time()\n",
    "model.evaluate(test_data, test_labels)\n",
    "testing_time = time.time() - start_time\n",
    "print(f\"Testing Time: {testing_time} seconds\")"
   ]
  },
  {
   "cell_type": "code",
   "execution_count": null,
   "id": "5e1c1f5b",
   "metadata": {},
   "outputs": [
    {
     "name": "stdout",
     "output_type": "stream",
     "text": [
      "\u001b[1m1/1\u001b[0m \u001b[32m━━━━━━━━━━━━━━━━━━━━\u001b[0m\u001b[37m\u001b[0m \u001b[1m0s\u001b[0m 56ms/step\n"
     ]
    }
   ],
   "source": [
    "# Create a simple GUI using Tkinter\n",
    "window = Tk()\n",
    "window.title(\"Movie Review Classifier\")\n",
    "\n",
    "# Create GUI components\n",
    "label = Label(window, text=\"Enter your movie review:\")\n",
    "label.pack()\n",
    "\n",
    "text_box = Text(window, height=5, width=50)\n",
    "text_box.pack()\n",
    "\n",
    "result_label = Label(window, text=\"\")\n",
    "result_label.pack()\n",
    "\n",
    "    \n",
    "\n",
    "    \n",
    "def classify_review():\n",
    "    global result_label  # Declare result_label as a global variable\n",
    "    review_text = text_box.get(\"1.0\", 'end-1c')\n",
    "    review_seq = tokenizer.texts_to_sequences([review_text])\n",
    "    review_pad = pad_sequences(review_seq, maxlen=max_len)\n",
    "    prediction = model.predict(review_pad)\n",
    "\n",
    "    \n",
    "    # Use a threshold (e.g., 0.5) to classify as Positive or Negative\n",
    "    sentiment = \"Positive\" if prediction[0][0] >= 0.5 else \"Negative\"\n",
    "    \n",
    "    result_label.config(text=f'Prediction: {sentiment}')\n",
    "\n",
    "\n",
    "classify_button = Button(window, text=\"Classify\", command=classify_review)\n",
    "classify_button.pack()\n",
    "\n",
    "\n",
    "\n",
    "# Tokenize the training data for later use in the GUI\n",
    "tokenizer = Tokenizer(num_words=10000, oov_token='<OOV>')\n",
    "tokenizer.fit_on_texts([decoded_review])  # Convert the decoded review to a list\n",
    "\n",
    "# Start the GUI\n",
    "window.mainloop()\n"
   ]
  },
  {
   "cell_type": "code",
   "execution_count": null,
   "id": "fb6b573c",
   "metadata": {},
   "outputs": [],
   "source": []
  },
  {
   "cell_type": "code",
   "execution_count": null,
   "id": "70a91ba8",
   "metadata": {},
   "outputs": [],
   "source": []
  }
 ],
 "metadata": {
  "kernelspec": {
   "display_name": "Python 3 (ipykernel)",
   "language": "python",
   "name": "python3"
  },
  "language_info": {
   "codemirror_mode": {
    "name": "ipython",
    "version": 3
   },
   "file_extension": ".py",
   "mimetype": "text/x-python",
   "name": "python",
   "nbconvert_exporter": "python",
   "pygments_lexer": "ipython3",
   "version": "3.10.10"
  }
 },
 "nbformat": 4,
 "nbformat_minor": 5
}
